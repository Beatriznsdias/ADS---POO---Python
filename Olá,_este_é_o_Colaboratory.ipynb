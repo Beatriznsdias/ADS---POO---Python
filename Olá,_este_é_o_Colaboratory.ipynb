{
  "nbformat": 4,
  "nbformat_minor": 0,
  "metadata": {
    "colab": {
      "name": "Olá, este é o Colaboratory",
      "provenance": [],
      "collapsed_sections": [],
      "include_colab_link": true
    },
    "kernelspec": {
      "display_name": "Python 3",
      "name": "python3"
    }
  },
  "cells": [
    {
      "cell_type": "markdown",
      "metadata": {
        "id": "view-in-github",
        "colab_type": "text"
      },
      "source": [
        "<a href=\"https://colab.research.google.com/github/Beatriznsdias/ADS---POO---Python/blob/main/Ol%C3%A1%2C_este_%C3%A9_o_Colaboratory.ipynb\" target=\"_parent\"><img src=\"https://colab.research.google.com/assets/colab-badge.svg\" alt=\"Open In Colab\"/></a>"
      ]
    },
    {
      "cell_type": "markdown",
      "metadata": {
        "id": "rwIO3_FkbjOr"
      },
      "source": [
        "## Exemplo\n",
        "\n"
      ]
    },
    {
      "cell_type": "markdown",
      "metadata": {
        "id": "5-GJV3x4bwF5"
      },
      "source": [
        "Criar um classe chamada Carro com os seguintes atributos: modelo, cor, ano, preco e total_carros (o último deve ser um atributo de classe)\n",
        "\n",
        "Crie os métodos sets e gets para cada atributo, um construtor, um método imprimir_carro e um método imprimir_total."
      ]
    },
    {
      "cell_type": "code",
      "metadata": {
        "id": "X4JIWeDNPgdK"
      },
      "source": [
        "class Carro:\n",
        "  total_carros=0\n",
        "\n",
        "  # construtor\n",
        "  # parametros\n",
        "  def __init__(self, modelo=None, ano=None, cor=None, preco=None):\n",
        "    # =None torna o termo nao seja obrigatorio\n",
        "    # atributos de instância\n",
        "    self.modelo = modelo\n",
        "    self.cor = cor\n",
        "    self.preco = preco\n",
        "    self.ano = ano\n",
        "    # acessar atributos da classe\n",
        "    self.__class__.total_carros += 1\n",
        "\n",
        "  def get_cor(self):\n",
        "    return str(self.cor)\n",
        "  \n",
        "  def get_modelo(self):\n",
        "    return str(self.modelo)\n",
        "  \n",
        "  def set_modelo(self, modelo):\n",
        "    if typr(modelo) is str:\n",
        "      self.modelo = modelo\n",
        "\n",
        "  def get_ano(self):\n",
        "    return str(self.ano)\n",
        "\n",
        "  def imprimir_carro(self):\n",
        "    print('Modelo: ' + self.get_modelo())\n",
        "    print('cor: ' + self.get_cor())\n",
        "    print('ano: ' + self.get_ano())\n",
        "    \n",
        "  @classmethod\n",
        "  def imprimir_total(cls):\n",
        "    print('Total de carros = ' + str(cls.total_carros))"
      ],
      "execution_count": null,
      "outputs": []
    },
    {
      "cell_type": "code",
      "metadata": {
        "id": "GCXwDEvQR4xg"
      },
      "source": [
        "c1 = Carro('uno', 'preto', 12000, 2013)\n",
        "c2 = Carro('creta', 'prata', 22000, 2015)\n",
        "c3 = Carro(cor='verde') # escolhe o paramentro a passar"
      ],
      "execution_count": null,
      "outputs": []
    },
    {
      "cell_type": "code",
      "metadata": {
        "colab": {
          "base_uri": "https://localhost:8080/"
        },
        "id": "G1T6W2XeXsyF",
        "outputId": "b1f18e9f-d2f8-4e55-88de-913b4898625e"
      },
      "source": [
        "c1.imprimir_carro()\n",
        "c2.imprimir_carro()\n",
        "c3.imprimir_carro()"
      ],
      "execution_count": null,
      "outputs": [
        {
          "output_type": "stream",
          "name": "stdout",
          "text": [
            "Modelo: uno\n",
            "cor: 12000\n",
            "ano: preto\n",
            "Modelo: creta\n",
            "cor: 22000\n",
            "ano: prata\n",
            "Modelo: None\n",
            "cor: verde\n",
            "ano: None\n"
          ]
        }
      ]
    },
    {
      "cell_type": "code",
      "metadata": {
        "colab": {
          "base_uri": "https://localhost:8080/"
        },
        "id": "eqcecPtwZMmH",
        "outputId": "b114fad1-4962-4297-a1b9-c2fdd32e55e9"
      },
      "source": [
        "Carro.imprimir_total()"
      ],
      "execution_count": null,
      "outputs": [
        {
          "output_type": "stream",
          "name": "stdout",
          "text": [
            "Total de carros = 3\n"
          ]
        }
      ]
    },
    {
      "cell_type": "code",
      "metadata": {
        "colab": {
          "base_uri": "https://localhost:8080/"
        },
        "id": "3bnEnDLjSZp9",
        "outputId": "e2dd5ab3-f092-4e78-ca4f-c9520807830d"
      },
      "source": [
        "print(c1.__dict__)\n",
        "print(c2.__dict__)"
      ],
      "execution_count": null,
      "outputs": [
        {
          "output_type": "stream",
          "name": "stdout",
          "text": [
            "{'modelo': 'uno', 'cor': 'preto', 'preco': 12000, 'ano': 2013}\n",
            "{'modelo': 'creta', 'cor': 'prata', 'preco': 22000, 'ano': 2015}\n"
          ]
        }
      ]
    }
  ]
}